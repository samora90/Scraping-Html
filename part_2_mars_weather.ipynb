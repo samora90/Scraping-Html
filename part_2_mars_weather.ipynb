{
 "cells": [
  {
   "attachments": {},
   "cell_type": "markdown",
   "metadata": {},
   "source": [
    "# Module 11 Challenge\n",
    "## Deliverable 2: Scrape and Analyze Mars Weather Data"
   ]
  },
  {
   "cell_type": "code",
   "execution_count": 1,
   "metadata": {},
   "outputs": [],
   "source": [
    "# Import relevant libraries\n",
    "from splinter import Browser\n",
    "from bs4 import BeautifulSoup\n",
    "import matplotlib.pyplot as plt\n",
    "import pandas as pd"
   ]
  },
  {
   "cell_type": "code",
   "execution_count": 2,
   "metadata": {},
   "outputs": [],
   "source": [
    "browser = Browser('chrome')"
   ]
  },
  {
   "attachments": {},
   "cell_type": "markdown",
   "metadata": {},
   "source": [
    "### Step 1: Visit the Website\n",
    "\n",
    "Use automated browsing to visit the [Mars Temperature Data Site](https://static.bc-edx.com/data/web/mars_facts/temperature.html). Inspect the page to identify which elements to scrape.\n",
    "\n",
    "   > **Hint** To identify which elements to scrape, you might want to inspect the page by using Chrome DevTools to discover whether the table contains usable classes.\n"
   ]
  },
  {
   "cell_type": "code",
   "execution_count": 3,
   "metadata": {},
   "outputs": [],
   "source": [
    "# Visit the website\n",
    "# https://static.bc-edx.com/data/web/mars_facts/temperature.html\n",
    "url = \"https://static.bc-edx.com/data/web/mars_facts/temperature.html\"\n",
    "browser.visit(url)"
   ]
  },
  {
   "attachments": {},
   "cell_type": "markdown",
   "metadata": {},
   "source": [
    "### Step 2: Scrape the Table\n",
    "\n",
    "Create a Beautiful Soup object and use it to scrape the data in the HTML table.\n",
    "\n",
    "Note that this can also be achieved by using the Pandas `read_html` function. However, use Beautiful Soup here to continue sharpening your web scraping skills."
   ]
  },
  {
   "cell_type": "code",
   "execution_count": 4,
   "metadata": {},
   "outputs": [],
   "source": [
    "# Create a Beautiful Soup Object\n",
    "html = browser.html\n",
    "soup = BeautifulSoup(html, 'html.parser')"
   ]
  },
  {
   "cell_type": "code",
   "execution_count": 5,
   "metadata": {},
   "outputs": [
    {
     "data": {
      "text/plain": [
       "[<tr class=\"data-row\">\n",
       " <td>2</td>\n",
       " <td>2012-08-16</td>\n",
       " <td>10</td>\n",
       " <td>155</td>\n",
       " <td>6</td>\n",
       " <td>-75.0</td>\n",
       " <td>739.0</td>\n",
       " </tr>,\n",
       " <tr class=\"data-row\">\n",
       " <td>13</td>\n",
       " <td>2012-08-17</td>\n",
       " <td>11</td>\n",
       " <td>156</td>\n",
       " <td>6</td>\n",
       " <td>-76.0</td>\n",
       " <td>740.0</td>\n",
       " </tr>,\n",
       " <tr class=\"data-row\">\n",
       " <td>24</td>\n",
       " <td>2012-08-18</td>\n",
       " <td>12</td>\n",
       " <td>156</td>\n",
       " <td>6</td>\n",
       " <td>-76.0</td>\n",
       " <td>741.0</td>\n",
       " </tr>,\n",
       " <tr class=\"data-row\">\n",
       " <td>35</td>\n",
       " <td>2012-08-19</td>\n",
       " <td>13</td>\n",
       " <td>157</td>\n",
       " <td>6</td>\n",
       " <td>-74.0</td>\n",
       " <td>732.0</td>\n",
       " </tr>,\n",
       " <tr class=\"data-row\">\n",
       " <td>46</td>\n",
       " <td>2012-08-20</td>\n",
       " <td>14</td>\n",
       " <td>157</td>\n",
       " <td>6</td>\n",
       " <td>-74.0</td>\n",
       " <td>740.0</td>\n",
       " </tr>,\n",
       " <tr class=\"data-row\">\n",
       " <td>57</td>\n",
       " <td>2012-08-21</td>\n",
       " <td>15</td>\n",
       " <td>158</td>\n",
       " <td>6</td>\n",
       " <td>-78.0</td>\n",
       " <td>740.0</td>\n",
       " </tr>,\n",
       " <tr class=\"data-row\">\n",
       " <td>68</td>\n",
       " <td>2012-08-22</td>\n",
       " <td>16</td>\n",
       " <td>158</td>\n",
       " <td>6</td>\n",
       " <td>-77.0</td>\n",
       " <td>740.0</td>\n",
       " </tr>,\n",
       " <tr class=\"data-row\">\n",
       " <td>79</td>\n",
       " <td>2012-08-23</td>\n",
       " <td>17</td>\n",
       " <td>159</td>\n",
       " <td>6</td>\n",
       " <td>-76.0</td>\n",
       " <td>742.0</td>\n",
       " </tr>,\n",
       " <tr class=\"data-row\">\n",
       " <td>112</td>\n",
       " <td>2012-08-27</td>\n",
       " <td>21</td>\n",
       " <td>161</td>\n",
       " <td>6</td>\n",
       " <td>-74.0</td>\n",
       " <td>741.0</td>\n",
       " </tr>,\n",
       " <tr class=\"data-row\">\n",
       " <td>114</td>\n",
       " <td>2012-08-28</td>\n",
       " <td>22</td>\n",
       " <td>162</td>\n",
       " <td>6</td>\n",
       " <td>-74.0</td>\n",
       " <td>742.0</td>\n",
       " </tr>,\n",
       " <tr class=\"data-row\">\n",
       " <td>123</td>\n",
       " <td>2012-08-29</td>\n",
       " <td>23</td>\n",
       " <td>162</td>\n",
       " <td>6</td>\n",
       " <td>-75.0</td>\n",
       " <td>741.0</td>\n",
       " </tr>,\n",
       " <tr class=\"data-row\">\n",
       " <td>134</td>\n",
       " <td>2012-08-30</td>\n",
       " <td>24</td>\n",
       " <td>163</td>\n",
       " <td>6</td>\n",
       " <td>-75.0</td>\n",
       " <td>742.0</td>\n",
       " </tr>,\n",
       " <tr class=\"data-row\">\n",
       " <td>145</td>\n",
       " <td>2012-08-31</td>\n",
       " <td>25</td>\n",
       " <td>163</td>\n",
       " <td>6</td>\n",
       " <td>-75.0</td>\n",
       " <td>743.0</td>\n",
       " </tr>,\n",
       " <tr class=\"data-row\">\n",
       " <td>156</td>\n",
       " <td>2012-09-01</td>\n",
       " <td>26</td>\n",
       " <td>164</td>\n",
       " <td>6</td>\n",
       " <td>-76.0</td>\n",
       " <td>745.0</td>\n",
       " </tr>,\n",
       " <tr class=\"data-row\">\n",
       " <td>163</td>\n",
       " <td>2012-09-02</td>\n",
       " <td>27</td>\n",
       " <td>164</td>\n",
       " <td>6</td>\n",
       " <td>-75.0</td>\n",
       " <td>743.0</td>\n",
       " </tr>,\n",
       " <tr class=\"data-row\">\n",
       " <td>170</td>\n",
       " <td>2012-09-03</td>\n",
       " <td>28</td>\n",
       " <td>165</td>\n",
       " <td>6</td>\n",
       " <td>-75.0</td>\n",
       " <td>745.0</td>\n",
       " </tr>,\n",
       " <tr class=\"data-row\">\n",
       " <td>171</td>\n",
       " <td>2012-09-04</td>\n",
       " <td>29</td>\n",
       " <td>166</td>\n",
       " <td>6</td>\n",
       " <td>-75.0</td>\n",
       " <td>747.0</td>\n",
       " </tr>,\n",
       " <tr class=\"data-row\">\n",
       " <td>172</td>\n",
       " <td>2012-09-05</td>\n",
       " <td>30</td>\n",
       " <td>166</td>\n",
       " <td>6</td>\n",
       " <td>-74.0</td>\n",
       " <td>747.0</td>\n",
       " </tr>,\n",
       " <tr class=\"data-row\">\n",
       " <td>173</td>\n",
       " <td>2012-09-06</td>\n",
       " <td>31</td>\n",
       " <td>167</td>\n",
       " <td>6</td>\n",
       " <td>-74.0</td>\n",
       " <td>745.0</td>\n",
       " </tr>,\n",
       " <tr class=\"data-row\">\n",
       " <td>175</td>\n",
       " <td>2012-09-08</td>\n",
       " <td>33</td>\n",
       " <td>168</td>\n",
       " <td>6</td>\n",
       " <td>-73.0</td>\n",
       " <td>748.0</td>\n",
       " </tr>]"
      ]
     },
     "execution_count": 5,
     "metadata": {},
     "output_type": "execute_result"
    }
   ],
   "source": [
    "# Extract all rows of data\n",
    "all_rows = soup.find_all(\"tr\",class_=\"data-row\")\n",
    "all_rows[0:20]"
   ]
  },
  {
   "attachments": {},
   "cell_type": "markdown",
   "metadata": {},
   "source": [
    "### Step 3: Store the Data\n",
    "\n",
    "Assemble the scraped data into a Pandas DataFrame. The columns should have the same headings as the table on the website. Here’s an explanation of the column headings:\n",
    "\n",
    "* `id`: the identification number of a single transmission from the Curiosity rover\n",
    "* `terrestrial_date`: the date on Earth\n",
    "* `sol`: the number of elapsed sols (Martian days) since Curiosity landed on Mars\n",
    "* `ls`: the solar longitude\n",
    "* `month`: the Martian month\n",
    "* `min_temp`: the minimum temperature, in Celsius, of a single Martian day (sol)\n",
    "* `pressure`: The atmospheric pressure at Curiosity's location"
   ]
  },
  {
   "cell_type": "code",
   "execution_count": 24,
   "metadata": {},
   "outputs": [
    {
     "data": {
      "text/plain": [
       "[['2', '2012-08-16', '10', '155', '6', '-75.0', '739.0'],\n",
       " ['13', '2012-08-17', '11', '156', '6', '-76.0', '740.0'],\n",
       " ['24', '2012-08-18', '12', '156', '6', '-76.0', '741.0'],\n",
       " ['35', '2012-08-19', '13', '157', '6', '-74.0', '732.0'],\n",
       " ['46', '2012-08-20', '14', '157', '6', '-74.0', '740.0'],\n",
       " ['57', '2012-08-21', '15', '158', '6', '-78.0', '740.0'],\n",
       " ['68', '2012-08-22', '16', '158', '6', '-77.0', '740.0'],\n",
       " ['79', '2012-08-23', '17', '159', '6', '-76.0', '742.0'],\n",
       " ['112', '2012-08-27', '21', '161', '6', '-74.0', '741.0'],\n",
       " ['114', '2012-08-28', '22', '162', '6', '-74.0', '742.0']]"
      ]
     },
     "execution_count": 24,
     "metadata": {},
     "output_type": "execute_result"
    }
   ],
   "source": [
    "# Create an empty list\n",
    "all_data =[]\n",
    "\n",
    "# Loop through the scraped data to create a list of rows\n",
    "for row in all_rows:\n",
    "    raw_data=row.find_all(\"td\")\n",
    "    raw_list=[]\n",
    "    for i in range(0,7):\n",
    "        raw_list.append(raw_data[i].text)\n",
    "    all_data.append(raw_list)\n",
    "all_data[0:10]"
   ]
  },
  {
   "cell_type": "code",
   "execution_count": 7,
   "metadata": {},
   "outputs": [],
   "source": [
    "# Create a Pandas DataFrame by using the list of rows and a list of the column names\n",
    "column_names=['id','terrestrial_date','sol','ls','month','min_temp','pressure']\n",
    "\n",
    "mars_df=pd.DataFrame(all_data,columns=column_names)"
   ]
  },
  {
   "cell_type": "code",
   "execution_count": 8,
   "metadata": {},
   "outputs": [
    {
     "data": {
      "text/html": [
       "<div>\n",
       "<style scoped>\n",
       "    .dataframe tbody tr th:only-of-type {\n",
       "        vertical-align: middle;\n",
       "    }\n",
       "\n",
       "    .dataframe tbody tr th {\n",
       "        vertical-align: top;\n",
       "    }\n",
       "\n",
       "    .dataframe thead th {\n",
       "        text-align: right;\n",
       "    }\n",
       "</style>\n",
       "<table border=\"1\" class=\"dataframe\">\n",
       "  <thead>\n",
       "    <tr style=\"text-align: right;\">\n",
       "      <th></th>\n",
       "      <th>id</th>\n",
       "      <th>terrestrial_date</th>\n",
       "      <th>sol</th>\n",
       "      <th>ls</th>\n",
       "      <th>month</th>\n",
       "      <th>min_temp</th>\n",
       "      <th>pressure</th>\n",
       "    </tr>\n",
       "  </thead>\n",
       "  <tbody>\n",
       "    <tr>\n",
       "      <th>0</th>\n",
       "      <td>2</td>\n",
       "      <td>2012-08-16</td>\n",
       "      <td>10</td>\n",
       "      <td>155</td>\n",
       "      <td>6</td>\n",
       "      <td>-75.0</td>\n",
       "      <td>739.0</td>\n",
       "    </tr>\n",
       "    <tr>\n",
       "      <th>1</th>\n",
       "      <td>13</td>\n",
       "      <td>2012-08-17</td>\n",
       "      <td>11</td>\n",
       "      <td>156</td>\n",
       "      <td>6</td>\n",
       "      <td>-76.0</td>\n",
       "      <td>740.0</td>\n",
       "    </tr>\n",
       "    <tr>\n",
       "      <th>2</th>\n",
       "      <td>24</td>\n",
       "      <td>2012-08-18</td>\n",
       "      <td>12</td>\n",
       "      <td>156</td>\n",
       "      <td>6</td>\n",
       "      <td>-76.0</td>\n",
       "      <td>741.0</td>\n",
       "    </tr>\n",
       "    <tr>\n",
       "      <th>3</th>\n",
       "      <td>35</td>\n",
       "      <td>2012-08-19</td>\n",
       "      <td>13</td>\n",
       "      <td>157</td>\n",
       "      <td>6</td>\n",
       "      <td>-74.0</td>\n",
       "      <td>732.0</td>\n",
       "    </tr>\n",
       "    <tr>\n",
       "      <th>4</th>\n",
       "      <td>46</td>\n",
       "      <td>2012-08-20</td>\n",
       "      <td>14</td>\n",
       "      <td>157</td>\n",
       "      <td>6</td>\n",
       "      <td>-74.0</td>\n",
       "      <td>740.0</td>\n",
       "    </tr>\n",
       "  </tbody>\n",
       "</table>\n",
       "</div>"
      ],
      "text/plain": [
       "   id terrestrial_date sol   ls month min_temp pressure\n",
       "0   2       2012-08-16  10  155     6    -75.0    739.0\n",
       "1  13       2012-08-17  11  156     6    -76.0    740.0\n",
       "2  24       2012-08-18  12  156     6    -76.0    741.0\n",
       "3  35       2012-08-19  13  157     6    -74.0    732.0\n",
       "4  46       2012-08-20  14  157     6    -74.0    740.0"
      ]
     },
     "execution_count": 8,
     "metadata": {},
     "output_type": "execute_result"
    }
   ],
   "source": [
    "# Confirm DataFrame was created successfully\n",
    "mars_df.head()"
   ]
  },
  {
   "attachments": {},
   "cell_type": "markdown",
   "metadata": {},
   "source": [
    "### Step 4: Prepare Data for Analysis\n",
    "\n",
    "Examine the data types that are currently associated with each column. If necessary, cast (or convert) the data to the appropriate `datetime`, `int`, or `float` data types.\n",
    "\n",
    "  > **Hint** You can use the Pandas `astype` and `to_datetime` methods to accomplish this task.\n"
   ]
  },
  {
   "cell_type": "code",
   "execution_count": 9,
   "metadata": {},
   "outputs": [
    {
     "data": {
      "text/plain": [
       "id                  object\n",
       "terrestrial_date    object\n",
       "sol                 object\n",
       "ls                  object\n",
       "month               object\n",
       "min_temp            object\n",
       "pressure            object\n",
       "dtype: object"
      ]
     },
     "execution_count": 9,
     "metadata": {},
     "output_type": "execute_result"
    }
   ],
   "source": [
    "# Examine data type of each column\n",
    "mars_df.dtypes"
   ]
  },
  {
   "cell_type": "code",
   "execution_count": 10,
   "metadata": {},
   "outputs": [
    {
     "name": "stderr",
     "output_type": "stream",
     "text": [
      "/var/folders/cq/fs7n55rd191525_7rkkqy7mh0000gn/T/ipykernel_53052/3156688268.py:4: UserWarning: Parsing dates in %Y-%m-%d format when dayfirst=True was specified. Pass `dayfirst=False` or specify a format to silence this warning.\n",
      "  mars_df.terrestrial_date=pd.to_datetime(mars_df[\"terrestrial_date\"],dayfirst=True)\n"
     ]
    }
   ],
   "source": [
    "# Change data types for data analysis\n",
    "mars_df[[\"sol\",\"ls\",\"month\"]]=mars_df[[\"sol\",\"ls\",\"month\"]].astype(\"int64\")\n",
    "mars_df[[\"min_temp\",\"pressure\"]]=mars_df[[\"min_temp\",\"pressure\"]].astype(\"float64\")\n",
    "mars_df.terrestrial_date=pd.to_datetime(mars_df[\"terrestrial_date\"],dayfirst=True)"
   ]
  },
  {
   "cell_type": "code",
   "execution_count": 11,
   "metadata": {},
   "outputs": [
    {
     "data": {
      "text/plain": [
       "id                          object\n",
       "terrestrial_date    datetime64[ns]\n",
       "sol                          int64\n",
       "ls                           int64\n",
       "month                        int64\n",
       "min_temp                   float64\n",
       "pressure                   float64\n",
       "dtype: object"
      ]
     },
     "execution_count": 11,
     "metadata": {},
     "output_type": "execute_result"
    }
   ],
   "source": [
    "# Confirm type changes were successful by examining data types again\n",
    "mars_df.dtypes"
   ]
  },
  {
   "attachments": {},
   "cell_type": "markdown",
   "metadata": {},
   "source": [
    "### Step 5: Analyze the Data\n",
    "\n",
    "Analyze your dataset by using Pandas functions to answer the following questions:\n",
    "\n",
    "1. How many months exist on Mars?\n",
    "2. How many Martian (and not Earth) days worth of data exist in the scraped dataset?\n",
    "3. What are the coldest and the warmest months on Mars (at the location of Curiosity)? To answer this question:\n",
    "    * Find the average the minimum daily temperature for all of the months.\n",
    "    * Plot the results as a bar chart.\n",
    "4. Which months have the lowest and the highest atmospheric pressure on Mars? To answer this question:\n",
    "    * Find the average the daily atmospheric pressure of all the months.\n",
    "    * Plot the results as a bar chart.\n",
    "5. About how many terrestrial (Earth) days exist in a Martian year? To answer this question:\n",
    "    * Consider how many days elapse on Earth in the time that Mars circles the Sun once.\n",
    "    * Visually estimate the result by plotting the daily minimum temperature.\n"
   ]
  },
  {
   "cell_type": "code",
   "execution_count": 12,
   "metadata": {},
   "outputs": [
    {
     "data": {
      "text/plain": [
       "12"
      ]
     },
     "execution_count": 12,
     "metadata": {},
     "output_type": "execute_result"
    }
   ],
   "source": [
    "# 1. How many months are there on Mars?\n",
    "mars_df[\"month\"].nunique()"
   ]
  },
  {
   "cell_type": "code",
   "execution_count": 13,
   "metadata": {},
   "outputs": [
    {
     "data": {
      "text/plain": [
       "1867"
      ]
     },
     "execution_count": 13,
     "metadata": {},
     "output_type": "execute_result"
    }
   ],
   "source": [
    "# 2. How many sols (Martian days) worth of data are there?\n",
    "mars_df[\"sol\"].count()"
   ]
  },
  {
   "cell_type": "code",
   "execution_count": 14,
   "metadata": {},
   "outputs": [
    {
     "data": {
      "text/plain": [
       "month\n",
       "1    -77.160920\n",
       "2    -79.932584\n",
       "3    -83.307292\n",
       "4    -82.747423\n",
       "5    -79.308725\n",
       "6    -75.299320\n",
       "7    -72.281690\n",
       "8    -68.382979\n",
       "9    -69.171642\n",
       "10   -71.982143\n",
       "11   -71.985507\n",
       "12   -74.451807\n",
       "Name: min_temp, dtype: float64"
      ]
     },
     "execution_count": 14,
     "metadata": {},
     "output_type": "execute_result"
    }
   ],
   "source": [
    "# 3. What is the average minimum temperature by month?\n",
    "ave_monthly_temp=mars_df.groupby(\"month\")[\"min_temp\"].mean()\n",
    "ave_monthly_temp\n"
   ]
  },
  {
   "cell_type": "code",
   "execution_count": 15,
   "metadata": {},
   "outputs": [
    {
     "data": {
      "image/png": "[encoded data removed]",
      "text/plain": [
       "<Figure size 640x480 with 1 Axes>"
      ]
     },
     "metadata": {},
     "output_type": "display_data"
    }
   ],
   "source": [
    "# Plot the average minimum temperature by month\n",
    "ave_temp_chart= ave_monthly_temp.plot(kind='bar')\n",
    "plt.xlabel('Month')\n",
    "plt.ylabel('Temperature in Celsius')\n",
    "plt.title('Average Minimum Temperature by Month')\n",
    "plt.tight_layout()\n",
    "plt.show()"
   ]
  },
  {
   "cell_type": "code",
   "execution_count": 16,
   "metadata": {},
   "outputs": [
    {
     "data": {
      "image/png": "[encoded data removed]",
      "text/plain": [
       "<Figure size 640x480 with 1 Axes>"
      ]
     },
     "metadata": {},
     "output_type": "display_data"
    }
   ],
   "source": [
    "# Identify the coldest and hottest months in Curiosity's location by sorting the previous graph\n",
    "ordered_chart= ave_monthly_temp.sort_values(ascending=True)\n",
    "ordered_chart.plot(kind='bar')\n",
    "\n",
    "\n",
    "plt.xlabel('Month')\n",
    "plt.ylabel('Temperature in Celsius')\n",
    "plt.title('Average Minimum Temperature by Month')\n",
    "plt.tight_layout()\n",
    "plt.show()"
   ]
  },
  {
   "cell_type": "code",
   "execution_count": 17,
   "metadata": {},
   "outputs": [
    {
     "data": {
      "text/plain": [
       "month\n",
       "1     862.488506\n",
       "2     889.455056\n",
       "3     877.322917\n",
       "4     806.329897\n",
       "5     748.557047\n",
       "6     745.054422\n",
       "7     795.105634\n",
       "8     873.829787\n",
       "9     913.305970\n",
       "10    887.312500\n",
       "11    857.014493\n",
       "12    842.156627\n",
       "Name: pressure, dtype: float64"
      ]
     },
     "execution_count": 17,
     "metadata": {},
     "output_type": "execute_result"
    }
   ],
   "source": [
    "# 4. What is the average pressure by month?\n",
    "ave_monthly_pressure=mars_df.groupby(\"month\")[\"pressure\"].mean()\n",
    "ave_monthly_pressure"
   ]
  },
  {
   "cell_type": "code",
   "execution_count": 18,
   "metadata": {},
   "outputs": [
    {
     "data": {
      "image/png": "[encoded data removed]",
      "text/plain": [
       "<Figure size 640x480 with 1 Axes>"
      ]
     },
     "metadata": {},
     "output_type": "display_data"
    }
   ],
   "source": [
    "# Plot the average pressure by month\n",
    "ave_monthly_pressure.plot(kind='bar')\n",
    "plt.xlabel('Month')\n",
    "plt.ylabel('Atmospheric Pressure')\n",
    "plt.title('Average Pressure by Month')\n",
    "plt.tight_layout()\n",
    "plt.show()"
   ]
  },
  {
   "cell_type": "code",
   "execution_count": 19,
   "metadata": {},
   "outputs": [
    {
     "data": {
      "image/png": "[encoded data removed]",
      "text/plain": [
       "<Figure size 640x480 with 1 Axes>"
      ]
     },
     "metadata": {},
     "output_type": "display_data"
    }
   ],
   "source": [
    "# Identify the lowest and highest pressure months in Curiosity's location by sorting the previous graph\n",
    "ordered_pressure_chart= ave_monthly_pressure.sort_values(ascending=True)\n",
    "ordered_pressure_chart.plot(kind='bar')\n",
    "plt.xlabel('Month')\n",
    "plt.ylabel('Atmospheric Pressure')\n",
    "plt.title('Average Pressure by Month')\n",
    "plt.tight_layout()\n",
    "plt.show()"
   ]
  },
  {
   "cell_type": "code",
   "execution_count": 20,
   "metadata": {},
   "outputs": [
    {
     "data": {
      "image/png": "[encoded data removed]",
      "text/plain": [
       "<Figure size 640x480 with 1 Axes>"
      ]
     },
     "metadata": {},
     "output_type": "display_data"
    }
   ],
   "source": [
    "# 5. How many terrestrial (Earth) days are there in a Martian year?\n",
    "# Visually estimate the result by plotting the daily minimum temperature of each observation in the data set.\n",
    "plt.plot(mars_df['sol'], mars_df['min_temp'])\n",
    "plt.xlabel('Number of Terrestrial days')\n",
    "plt.ylabel('Minimum Temperature')\n",
    "plt.title('Minimum Temperature over Time')\n",
    "plt.show()"
   ]
  },
  {
   "attachments": {},
   "cell_type": "markdown",
   "metadata": {},
   "source": [
    "#### Minimum Temperature\n",
    "\n",
    "YOUR ANALYSIS HERE"
   ]
  },
  {
   "attachments": {},
   "cell_type": "markdown",
   "metadata": {},
   "source": [
    "#### Atmospheric Pressure\n",
    "\n",
    "YOUR ANALYSIS HERE"
   ]
  },
  {
   "attachments": {},
   "cell_type": "markdown",
   "metadata": {},
   "source": [
    "#### Year Length\n",
    "\n",
    "YOUR ANALYSIS HERE"
   ]
  },
  {
   "attachments": {},
   "cell_type": "markdown",
   "metadata": {},
   "source": [
    "### Step 6: Save the Data\n",
    "\n",
    "Export the DataFrame to a CSV file."
   ]
  },
  {
   "cell_type": "code",
   "execution_count": 21,
   "metadata": {},
   "outputs": [],
   "source": [
    "# Write the data to a CSV\n",
    "mars_df.to_csv('mars_df', index=False)"
   ]
  },
  {
   "cell_type": "code",
   "execution_count": 22,
   "metadata": {},
   "outputs": [],
   "source": [
    "browser.quit()"
   ]
  }
 ],
 "metadata": {
  "kernelspec": {
   "display_name": "Python 3 (ipykernel)",
   "language": "python",
   "name": "python3"
  },
  "language_info": {
   "codemirror_mode": {
    "name": "ipython",
    "version": 3
   },
   "file_extension": ".py",
   "mimetype": "text/x-python",
   "name": "python",
   "nbconvert_exporter": "python",
   "pygments_lexer": "ipython3",
   "version": "3.12.7"
  },
  "vscode": {
   "interpreter": {
    "hash": "31f2aee4e71d21fbe5cf8b01ff0e069b9275f58929596ceb00d14d90e3e16cd6"
   }
  }
 },
 "nbformat": 4,
 "nbformat_minor": 4
}
